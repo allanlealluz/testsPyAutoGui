{
 "cells": [
  {
   "cell_type": "code",
   "execution_count": 10,
   "id": "cb345d3d-6b63-4807-b98c-6ccd0028770b",
   "metadata": {},
   "outputs": [],
   "source": [
    "import pyautogui\n",
    "import pyperclip\n",
    "import time\n",
    "pyautogui.hotkey('ctrl','t')\n",
    "pyautogui.write('https://drive.google.com/drive/folders/14oLE59U1RqyRqlBbKpsyymW-mitvbtoh')\n",
    "pyautogui.press('enter')\n",
    "time.sleep(10)\n",
    "pyautogui.click(x=392, y=361,button='right')\n",
    "time.sleep(5)\n",
    "pyautogui.click(x=564, y=635)"
   ]
  },
  {
   "cell_type": "code",
   "execution_count": 9,
   "id": "f3802526-9580-4845-b515-cc06346cdf78",
   "metadata": {},
   "outputs": [],
   "source": [
    "pyautogui.press('win')\n",
    "time.sleep(3)\n",
    "pyautogui.write('chrome')\n",
    "time.sleep(3)\n",
    "pyautogui.press('enter')"
   ]
  },
  {
   "cell_type": "code",
   "execution_count": 29,
   "id": "65496c74-73d1-443a-ba11-f66cdda50749",
   "metadata": {},
   "outputs": [],
   "source": [
    "v = pyautogui.position()\n",
    "time.sleep(2)\n",
    "t = pyautogui.position()\n",
    "time.sleep(3)\n",
    "pyautogui.click(t)\n",
    "pyautogui.click(v)"
   ]
  },
  {
   "cell_type": "code",
   "execution_count": 30,
   "id": "71672865-2a78-4a2e-9eb8-d6afc19c2429",
   "metadata": {},
   "outputs": [
    {
     "data": {
      "text/plain": [
       "2917311"
      ]
     },
     "execution_count": 30,
     "metadata": {},
     "output_type": "execute_result"
    }
   ],
   "source": [
    "import pandas as pd\n",
    "tabele = pd.read_excel('C://Users/52142/Downloads/Vendas - Dez.xlsx')\n",
    "faturamento = tabele['Valor Final'].sum()\n",
    "quantidade = tabele['Quantidade'].count()\n",
    "faturamento"
   ]
  },
  {
   "cell_type": "code",
   "execution_count": 3,
   "id": "ec3f2d33-7905-455a-8f02-3bf41095ea6c",
   "metadata": {},
   "outputs": [
    {
     "name": "stdout",
     "output_type": "stream",
     "text": [
      "Collecting pandasNote: you may need to restart the kernel to use updated packages.\n"
     ]
    },
    {
     "name": "stderr",
     "output_type": "stream",
     "text": [
      "WARNING: You are using pip version 21.1.2; however, version 21.2.4 is available.\n",
      "You should consider upgrading via the 'c:\\xampp\\htdocs\\testspyautogui\\venc\\scripts\\python.exe -m pip install --upgrade pip' command.\n"
     ]
    },
    {
     "name": "stdout",
     "output_type": "stream",
     "text": [
      "\n",
      "  Downloading pandas-1.3.3-cp39-cp39-win_amd64.whl (10.2 MB)\n",
      "Requirement already satisfied: pytz>=2017.3 in c:\\xampp\\htdocs\\testspyautogui\\venc\\lib\\site-packages (from pandas) (2021.3)\n",
      "Collecting numpy>=1.17.3\n",
      "  Using cached numpy-1.21.2-cp39-cp39-win_amd64.whl (14.0 MB)\n",
      "Requirement already satisfied: python-dateutil>=2.7.3 in c:\\xampp\\htdocs\\testspyautogui\\venc\\lib\\site-packages (from pandas) (2.8.2)\n",
      "Requirement already satisfied: six>=1.5 in c:\\xampp\\htdocs\\testspyautogui\\venc\\lib\\site-packages (from python-dateutil>=2.7.3->pandas) (1.16.0)\n",
      "Installing collected packages: numpy, pandas\n",
      "Successfully installed numpy-1.21.2 pandas-1.3.3\n"
     ]
    }
   ],
   "source": [
    "pip install pandas"
   ]
  },
  {
   "cell_type": "code",
   "execution_count": 3,
   "id": "8831e073-70a3-4195-a5ac-8692e3af9a75",
   "metadata": {},
   "outputs": [
    {
     "name": "stdout",
     "output_type": "stream",
     "text": [
      "Collecting fsspec\n",
      "  Downloading fsspec-2021.10.0-py3-none-any.whl (125 kB)\n",
      "Installing collected packages: fsspec\n",
      "Successfully installed fsspec-2021.10.0\n",
      "Note: you may need to restart the kernel to use updated packages.\n"
     ]
    },
    {
     "name": "stderr",
     "output_type": "stream",
     "text": [
      "WARNING: You are using pip version 21.1.2; however, version 21.2.4 is available.\n",
      "You should consider upgrading via the 'c:\\xampp\\htdocs\\testspyautogui\\venc\\scripts\\python.exe -m pip install --upgrade pip' command.\n"
     ]
    }
   ],
   "source": [
    "pip install fsspec\n"
   ]
  },
  {
   "cell_type": "code",
   "execution_count": 5,
   "id": "88cb3712-f435-4164-ad14-09df571b19f8",
   "metadata": {},
   "outputs": [
    {
     "name": "stdout",
     "output_type": "stream",
     "text": [
      "Collecting openpyxlNote: you may need to restart the kernel to use updated packages.\n"
     ]
    },
    {
     "name": "stderr",
     "output_type": "stream",
     "text": [
      "WARNING: You are using pip version 21.1.2; however, version 21.2.4 is available.\n",
      "You should consider upgrading via the 'c:\\xampp\\htdocs\\testspyautogui\\venc\\scripts\\python.exe -m pip install --upgrade pip' command.\n"
     ]
    },
    {
     "name": "stdout",
     "output_type": "stream",
     "text": [
      "\n",
      "  Downloading openpyxl-3.0.9-py2.py3-none-any.whl (242 kB)\n",
      "Collecting et-xmlfile\n",
      "  Using cached et_xmlfile-1.1.0-py3-none-any.whl (4.7 kB)\n",
      "Installing collected packages: et-xmlfile, openpyxl\n",
      "Successfully installed et-xmlfile-1.1.0 openpyxl-3.0.9\n"
     ]
    }
   ],
   "source": [
    "pip install openpyxl\n"
   ]
  },
  {
   "cell_type": "code",
   "execution_count": 34,
   "id": "e13043f6-81bf-409c-b47a-7ac036eb1770",
   "metadata": {},
   "outputs": [],
   "source": [
    "pyautogui.hotkey('ctrl','t')\n",
    "pyperclip.copy('https://mail.google.com/mail/u/0/#inbox')\n",
    "pyautogui.hotkey('ctrl','v')\n",
    "pyautogui.press('enter')\n",
    "time.sleep(7)\n",
    "pyautogui.click(x=27, y=193)\n",
    "time.sleep(10)\n",
    "pyautogui.write('allanlealluz+gostoso@gmail.com')\n",
    "pyautogui.press('tab')\n",
    "pyautogui.press('tab')\n",
    "pyautogui.write('ola')\n",
    "pyautogui.press('tab')\n",
    "texto = f\"\"\"\n",
    "o faturamento foi de R${faturamento:,.2f}\n",
    "a quantidade de produtos foi de {quantidade:,}\n",
    "\"\"\"\n",
    "pyperclip.copy(texto)\n",
    "pyautogui.hotkey('ctrl','v')\n",
    "pyautogui.click(x=844, y=696)\n",
    "time.sleep(5)"
   ]
  },
  {
   "cell_type": "code",
   "execution_count": 23,
   "id": "51b7be13-85e1-4241-9930-cf8d8399f021",
   "metadata": {},
   "outputs": [
    {
     "data": {
      "text/plain": [
       "Point(x=844, y=696)"
      ]
     },
     "execution_count": 23,
     "metadata": {},
     "output_type": "execute_result"
    }
   ],
   "source": [
    "time.sleep(5)\n",
    "t = pyautogui.position()\n",
    "t"
   ]
  },
  {
   "cell_type": "code",
   "execution_count": null,
   "id": "320e747e-1307-4a10-9c60-1ee1ac825d18",
   "metadata": {},
   "outputs": [],
   "source": []
  }
 ],
 "metadata": {
  "kernelspec": {
   "display_name": "Python 3 (ipykernel)",
   "language": "python",
   "name": "python3"
  },
  "language_info": {
   "codemirror_mode": {
    "name": "ipython",
    "version": 3
   },
   "file_extension": ".py",
   "mimetype": "text/x-python",
   "name": "python",
   "nbconvert_exporter": "python",
   "pygments_lexer": "ipython3",
   "version": "3.9.6"
  }
 },
 "nbformat": 4,
 "nbformat_minor": 5
}
