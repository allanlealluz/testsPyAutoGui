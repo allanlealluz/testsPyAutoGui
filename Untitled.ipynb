{
 "cells": [
  {
   "cell_type": "code",
   "execution_count": 20,
   "id": "7a1ede19-9160-455d-a75f-6bb6f88df74a",
   "metadata": {},
   "outputs": [],
   "source": [
    "import pyautogui as py\n",
    "import pyperclip as piper\n",
    "import time"
   ]
  },
  {
   "cell_type": "code",
   "execution_count": 21,
   "id": "3375d943-6dcd-4807-ad3c-6532b6588c4c",
   "metadata": {},
   "outputs": [],
   "source": [
    "py.hotkey('ctrl','t')\n",
    "time.sleep(1)\n",
    "py.write('https://web.whatsapp.com/')\n",
    "time.sleep(1)\n",
    "py.press('enter')\n",
    "time.sleep(15)\n",
    "py.click(x=189, y=191)\n",
    "py.write('Guh')\n",
    "time.sleep(2)\n",
    "py.click(x=201, y=397)\n",
    "time.sleep(3)\n",
    "py.click(x=554, y=692)\n",
    "piper.copy('testándo aceentos ´><´^^~~~~')\n",
    "py.hotkey('ctrl','v')\n",
    "py.press('enter')"
   ]
  },
  {
   "cell_type": "code",
   "execution_count": 16,
   "id": "53adcb1b-1628-46d5-ab6a-82418bec4ea9",
   "metadata": {},
   "outputs": [
    {
     "data": {
      "text/plain": [
       "Point(x=189, y=191)"
      ]
     },
     "execution_count": 16,
     "metadata": {},
     "output_type": "execute_result"
    }
   ],
   "source": [
    "time.sleep(5)\n",
    "t = py.position()\n",
    "t"
   ]
  },
  {
   "cell_type": "code",
   "execution_count": null,
   "id": "126c8d84-c3e3-4671-93ed-f8c5871b71d5",
   "metadata": {},
   "outputs": [],
   "source": []
  }
 ],
 "metadata": {
  "kernelspec": {
   "display_name": "Python 3 (ipykernel)",
   "language": "python",
   "name": "python3"
  },
  "language_info": {
   "codemirror_mode": {
    "name": "ipython",
    "version": 3
   },
   "file_extension": ".py",
   "mimetype": "text/x-python",
   "name": "python",
   "nbconvert_exporter": "python",
   "pygments_lexer": "ipython3",
   "version": "3.9.6"
  }
 },
 "nbformat": 4,
 "nbformat_minor": 5
}
